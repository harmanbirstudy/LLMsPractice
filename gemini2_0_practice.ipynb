{
  "nbformat": 4,
  "nbformat_minor": 0,
  "metadata": {
    "colab": {
      "provenance": [],
      "gpuType": "T4",
      "authorship_tag": "ABX9TyPhs7LbYvpvwKoHC55tIos6",
      "include_colab_link": true
    },
    "kernelspec": {
      "name": "python3",
      "display_name": "Python 3"
    },
    "language_info": {
      "name": "python"
    },
    "accelerator": "GPU"
  },
  "cells": [
    {
      "cell_type": "markdown",
      "metadata": {
        "id": "view-in-github",
        "colab_type": "text"
      },
      "source": [
        "<a href=\"https://colab.research.google.com/github/harmanbirstudy/LLMsPractice/blob/main/gemini2_0_practice.ipynb\" target=\"_parent\"><img src=\"https://colab.research.google.com/assets/colab-badge.svg\" alt=\"Open In Colab\"/></a>"
      ]
    },
    {
      "cell_type": "markdown",
      "source": [
        "https://www.youtube.com/watch?v=vxF8-ay9Bzk\n",
        "\n",
        "https://github.com/GoogleCloudPlatform/generative-ai -- good examples\n",
        "\n",
        "https://github.com/GoogleCloudPlatform/genai-product-catalog/tree/main\n",
        "\n",
        "Muti Model RAG (Code for second part of Video)                  \n",
        "https://github.com/langchain-ai/langchain/blob/master/cookbook/Multi_modal_RAG_google.ipynb\n",
        "\n",
        "\n",
        "1) Generic run for gemini 2.0 , key from cola secrets"
      ],
      "metadata": {
        "id": "ivtiLusXUfql"
      }
    },
    {
      "cell_type": "code",
      "source": [
        "pip install google-genai"
      ],
      "metadata": {
        "id": "Hdm8UWv-VEPA"
      },
      "execution_count": null,
      "outputs": []
    },
    {
      "cell_type": "code",
      "source": [
        "from google import genai\n",
        "from google.colab import userdata\n",
        "\n",
        "client = genai.Client(api_key=userdata.get('GEMINI_API_KEY'))\n",
        "response = client.models.generate_content(model='gemini-2.0-flash-exp', contents='How does AI work?')\n",
        "print(response.text)"
      ],
      "metadata": {
        "id": "Ic0ufaKwT7Me"
      },
      "execution_count": null,
      "outputs": []
    },
    {
      "cell_type": "markdown",
      "source": [
        "2) Langchain with gemini\n",
        "\n",
        "https://python.langchain.com/docs/integrations/llms/google_ai/\n",
        "\n",
        "https://python.langchain.com/docs/concepts/chat_models/"
      ],
      "metadata": {
        "id": "3VjqhD0_UjTh"
      }
    },
    {
      "cell_type": "code",
      "source": [
        "!pip install --quiet langchain # this is not needed, keeping it here for reference"
      ],
      "metadata": {
        "id": "WhMTZCRtUvyM"
      },
      "execution_count": 36,
      "outputs": []
    },
    {
      "cell_type": "code",
      "source": [
        "!pip install --quiet langchain-google-genai"
      ],
      "metadata": {
        "id": "bwVM6RPqU1b3"
      },
      "execution_count": null,
      "outputs": []
    },
    {
      "cell_type": "code",
      "source": [
        "from langchain_google_genai import GoogleGenerativeAI\n",
        "from google.colab import userdata\n",
        "api_key=userdata.get('GEMINI_API_KEY')"
      ],
      "metadata": {
        "id": "io0a7X7bVXMi"
      },
      "execution_count": 41,
      "outputs": []
    },
    {
      "cell_type": "code",
      "source": [
        "model = GoogleGenerativeAI(model=\"gemini-2.0-flash-exp\", google_api_key=api_key)"
      ],
      "metadata": {
        "id": "8ql4f8IBV8sL"
      },
      "execution_count": 37,
      "outputs": []
    },
    {
      "cell_type": "code",
      "source": [
        "question1 = \"What is BMW revenue for 2022 break it up per line of business and share the 2024 business prespective? \"\n",
        "\n",
        "# for chunk in model.stream(question1):\n",
        "#   print(chunk, end=\"\")\n",
        "\n",
        "print(model.invoke(question1))"
      ],
      "metadata": {
        "id": "lOxLusNMX_wh"
      },
      "execution_count": null,
      "outputs": []
    },
    {
      "cell_type": "markdown",
      "source": [
        "Using prompts"
      ],
      "metadata": {
        "id": "PidTlByigpF3"
      }
    },
    {
      "cell_type": "code",
      "source": [
        "from langchain_core.prompts import PromptTemplate\n",
        "template = \"What is {company} revenue for 2022 break it up per line of business and share the {year} business prespective? \"\n",
        "\n",
        "prompt = PromptTemplate.from_template(template)\n",
        "\n",
        "chain = prompt | model\n",
        "\n",
        "# for chunck in chain.stream({\"company\": \"BMW\", \"year\": \"2024\"}):\n",
        "#   print(chunck, end=\"\")\n",
        "\n",
        "print(chain.invoke({\"company\": \"BMW\", \"year\": \"2024\"}))\n"
      ],
      "metadata": {
        "id": "o14H3_R_eG4o"
      },
      "execution_count": null,
      "outputs": []
    },
    {
      "cell_type": "markdown",
      "source": [
        "More params like limit response and print config etc"
      ],
      "metadata": {
        "id": "HGCNjXdihqnz"
      }
    },
    {
      "cell_type": "code",
      "source": [
        "for chunk in model.invoke(question1, stream=True, stop=[\"growth\"], temperature=0.2):\n",
        "  print(chunk, end=\"\" , flush=True)"
      ],
      "metadata": {
        "id": "8NgnUxWMhyI0"
      },
      "execution_count": null,
      "outputs": []
    },
    {
      "cell_type": "code",
      "source": [
        "response = model.generate([question1])\n",
        "#response.generations[0][0].text\n",
        "response.generations[0][0].generation_info"
      ],
      "metadata": {
        "id": "o9hncly5ihDi"
      },
      "execution_count": null,
      "outputs": []
    },
    {
      "cell_type": "markdown",
      "source": [
        "3) Langchain gemini ChatModel\n",
        "\n",
        "https://python.langchain.com/docs/integrations/chat/google_generative_ai/"
      ],
      "metadata": {
        "id": "ZR72fYCAjXGZ"
      }
    },
    {
      "cell_type": "code",
      "source": [
        "from langchain_google_genai import ChatGoogleGenerativeAI\n",
        "from langchain_core.messages import HumanMessage, AIMessage"
      ],
      "metadata": {
        "id": "WBuLMu6Jjejp"
      },
      "execution_count": 40,
      "outputs": []
    },
    {
      "cell_type": "code",
      "source": [
        "chat_model = ChatGoogleGenerativeAI(model=\"gemini-2.0-flash-exp\", google_api_key=api_key)\n",
        "\n",
        "anwser = chat_model.invoke([HumanMessage(content=question1)])\n",
        "print(anwser.content)"
      ],
      "metadata": {
        "id": "4SH9GaB4kzIj"
      },
      "execution_count": null,
      "outputs": []
    },
    {
      "cell_type": "markdown",
      "source": [
        "4)Gemini Image models\n",
        "\n",
        "gemini-pro-vision -- depreciated so using gemini-2.0 unless found a better one"
      ],
      "metadata": {
        "id": "hmEjlK5g-FQD"
      }
    },
    {
      "cell_type": "code",
      "source": [
        "anwser = chat_model.invoke([HumanMessage(content=\"Hello. Who are you\")])\n",
        "print(anwser.content)\n"
      ],
      "metadata": {
        "id": "MkJBXGrJ-Est"
      },
      "execution_count": null,
      "outputs": []
    },
    {
      "cell_type": "code",
      "source": [
        "from langchain_google_genai._image_utils import ImageBytesLoader\n",
        "image_loader = ImageBytesLoader()\n",
        "image = image_loader.load_bytes(\"https://images.pexels.com/photos/8827237/pexels-photo-8827237.jpeg\")\n",
        "from IPython.display import Image , display\n",
        "display(Image(image))"
      ],
      "metadata": {
        "id": "YNjIxaW5-otW"
      },
      "execution_count": null,
      "outputs": []
    },
    {
      "cell_type": "code",
      "source": [
        "type(image)"
      ],
      "metadata": {
        "id": "eXhErCF3_QNu"
      },
      "execution_count": null,
      "outputs": []
    },
    {
      "cell_type": "code",
      "source": [
        "text_message = {\n",
        "    \"type\":\"text\",\n",
        "    \"text\": \"Describe the image\"\n",
        "}\n",
        "image_message = {\n",
        "    \"type\":\"image_url\",\n",
        "    \"image_url\": {\"url\":\"https://images.pexels.com/photos/8827237/pexels-photo-8827237.jpeg\"}\n",
        "}\n",
        "\n",
        "message = HumanMessage(content=[text_message, image_message])\n",
        "\n",
        "anwser = chat_model.invoke([message])\n",
        "print(anwser.content)"
      ],
      "metadata": {
        "id": "Je2ONRgl_Zp7"
      },
      "execution_count": null,
      "outputs": []
    },
    {
      "cell_type": "code",
      "source": [
        "image_url_nyse =(\n",
        "    \"https://www.reuters.com/resizer/v2/https%3A%2F%2Fcloudfront-us-east-2.images.arcpublishing.com%2Freuters%2FYSJL2MEQYJPPJFTB64XXCPG2FA.jpg?auth=b81bf08306817072ac6e4e3b9f0419a73895be15cf490bb7bfad62ec67bc1c5e&width=4996&quality=80\"\n",
        ")\n",
        "\n",
        "image_message = {\n",
        "    \"type\":\"image_url\",\n",
        "    \"image_url\": {\"url\":image_url_nyse}\n",
        "}\n",
        "\n",
        "prompt = \"Describe the scene , be detailed what is happening\"\n",
        "\n",
        "message = HumanMessage(content=[prompt, image_message])\n",
        "\n",
        "output = chat_model.invoke([message])\n",
        "print(output.content)\n",
        "display(Image(url=image_url_nyse))"
      ],
      "metadata": {
        "id": "GrjtClBgBP_B"
      },
      "execution_count": null,
      "outputs": []
    },
    {
      "cell_type": "markdown",
      "source": [
        "Using Prompts to hint what we expect it to think.City/Landmarks"
      ],
      "metadata": {
        "id": "iM0a7HosDmKM"
      }
    },
    {
      "cell_type": "code",
      "source": [
        "prompt1 = \"\"\"{\"city\":\"London\" ,\"Landmark\":\"Big ben\" , \"Postivie Historical event:The Great Fire of 1666 while devastating, it ultimately led to a major rebuilding effort that resulted in a new, more planned and improved London, essentially giving birth to a modern version of the city}\"\"\"\n",
        "\n",
        "prompt2 = \"\"\"{\"city\":\"Paris\" ,\"Landmark\":\"Eiffel Tower\" , \"Postivie Historical event:Founded in 1257 The soborne university becamme a a major center of learning in Europe and the core of the University of Paris }\"\"\"\n",
        "\n",
        "\n",
        "image_url1 = \"https://storage.googleapis.com/github-repo/img/gemini/intro/landmark1.jpg\"\n",
        "image_url2 = \"https://storage.googleapis.com/github-repo/img/gemini/intro/landmark2.jpg\"\n",
        "image_url3 = \"https://storage.googleapis.com/github-repo/img/gemini/intro/landmark3.jpg\"\n",
        "\n",
        "image_message1 = {\n",
        "    \"type\":\"image_url\",\n",
        "    \"image_url\": {\"url\":image_url1}\n",
        "}\n",
        "\n",
        "image_message2 = {\n",
        "    \"type\":\"image_url\",\n",
        "    \"image_url\": {\"url\":image_url2}\n",
        "}\n",
        "\n",
        "image_message3 = {\n",
        "    \"type\":\"image_url\",\n",
        "    \"image_url\": {\"url\":image_url3}\n",
        "}\n",
        "\n",
        "message1 = HumanMessage(content=[image_message1, prompt1,image_message2, prompt2,image_message3])\n",
        "\n",
        "output = chat_model.invoke([message1])\n",
        "\n",
        "print(prompt1)\n",
        "display(Image(url=image_url1))\n",
        "print(prompt2)\n",
        "display(Image(url=image_url2))\n",
        "\n",
        "print(output.content)\n",
        "display(Image(url=image_url3))\n"
      ],
      "metadata": {
        "id": "4VBP5IC0K6hf"
      },
      "execution_count": null,
      "outputs": []
    },
    {
      "cell_type": "markdown",
      "source": [
        "Same above example but with stocks"
      ],
      "metadata": {
        "id": "1RYLDBINVFx-"
      }
    },
    {
      "cell_type": "code",
      "source": [
        "prompt1 = \"\"\"{\"Ticker\":\"GOOG\" ,\"Industry\":\"Technology\" , \"Description:Alphabet stock is up by 8.07% in past 6M. It is trading at $133.84 with an increase of 0.12% after hours.The stock prise had risen compared to Nov2023}\"\"\"\n",
        "\n",
        "prompt2 = \"\"\"{\"Ticker\":\"AMZN\" ,\"Industry\":\"E-commerce\" , \"Description:Amazon stock is up by 2.63% in past 1M. It is trading at $149.97 with an no change of 0.00% after hours.The stock prise had risen compared to Nov 27}\"\"\"\n",
        "\n",
        "\n",
        "image_url1 = \"https://storage.googleapis.com/oss-llm-bucket-public/stock-1.png\"\n",
        "image_url2 = \"https://storage.googleapis.com/oss-llm-bucket-public/stock-2.png\"\n",
        "image_url3 = \"https://storage.googleapis.com/oss-llm-bucket-public/stock-3.png\"\n",
        "\n",
        "image_message1 = {\n",
        "    \"type\":\"image_url\",\n",
        "    \"image_url\": {\"url\":image_url1}\n",
        "}\n",
        "\n",
        "image_message2 = {\n",
        "    \"type\":\"image_url\",\n",
        "    \"image_url\": {\"url\":image_url2}\n",
        "}\n",
        "\n",
        "image_message3 = {\n",
        "    \"type\":\"image_url\",\n",
        "    \"image_url\": {\"url\":image_url3}\n",
        "}\n",
        "\n",
        "message1 = HumanMessage(content=[image_message1, prompt1,image_message2, prompt2,image_message3])\n",
        "\n",
        "output = chat_model.invoke([message1])\n",
        "\n",
        "print(prompt1)\n",
        "display(Image(url=image_url1))\n",
        "print(prompt2)\n",
        "display(Image(url=image_url2))\n",
        "\n",
        "print(output.content)\n",
        "display(Image(url=image_url3))"
      ],
      "metadata": {
        "id": "k0NGzTpsPFmF"
      },
      "execution_count": null,
      "outputs": []
    },
    {
      "cell_type": "markdown",
      "source": [
        "4) Mutli Modal RAG"
      ],
      "metadata": {
        "id": "V0I9DvoMSLEH"
      }
    },
    {
      "cell_type": "code",
      "source": [
        "!pip install --quiet langchain_community\n",
        "!pip install  --quiet pypdf"
      ],
      "metadata": {
        "id": "U6WPEN6HSxg2"
      },
      "execution_count": null,
      "outputs": []
    },
    {
      "cell_type": "markdown",
      "source": [
        "Downlaod and Load analytic data"
      ],
      "metadata": {
        "id": "tQ7CCzDro_2X"
      }
    },
    {
      "cell_type": "code",
      "source": [
        "import logging\n",
        "import zipfile\n",
        "\n",
        "import requests\n",
        "\n",
        "data_url= \"https://storage.googleapis.com/benchmarks-artifacts/langchain-docs-benchmarking/cj.zip\"\n",
        "result=requests.get(data_url)\n",
        "filename=\"cj.zip\"\n",
        "with open(filename, \"wb\") as f:\n",
        "  f.write(result.content)\n",
        "\n",
        "with zipfile.ZipFile(filename, \"r\") as zip_ref:\n",
        "  zip_ref.extractall(\".\")"
      ],
      "metadata": {
        "id": "eYg94bxjpEKe"
      },
      "execution_count": 2,
      "outputs": []
    },
    {
      "cell_type": "code",
      "source": [
        "from langchain_community.document_loaders import PyPDFLoader\n",
        "\n",
        "loader = PyPDFLoader(\"./cj/cj.pdf\")\n",
        "docs = loader.load()\n",
        "tables =[]\n",
        "texts = [d.page_content for d in docs]\n"
      ],
      "metadata": {
        "id": "jrSH8sa1SNl9"
      },
      "execution_count": 3,
      "outputs": []
    },
    {
      "cell_type": "code",
      "source": [
        "texts[0]"
      ],
      "metadata": {
        "id": "WdijSCaxvBtE"
      },
      "execution_count": null,
      "outputs": []
    },
    {
      "cell_type": "code",
      "source": [
        "len(texts)"
      ],
      "metadata": {
        "id": "f4Jnzb2hvE3L"
      },
      "execution_count": null,
      "outputs": []
    },
    {
      "cell_type": "code",
      "source": [
        "from langchain.prompts import PromptTemplate\n",
        "from langchain_core.messages import AIMessage\n",
        "from langchain_core.output_parsers import StrOutputParser\n",
        "from langchain_core.runnables import RunnableLambda\n",
        "from langchain_google_genai import GoogleGenerativeAI\n",
        "from google.colab import userdata\n",
        "api_key=userdata.get('GEMINI_API_KEY')\n",
        "\n",
        "\n",
        "#Generate summaries of text elemets\n",
        "def generate_text_summaries(texts, tales, summarize_texts=False):\n",
        "  \"\"\"\n",
        "  Summarize text elements\n",
        "  texts: List of str\n",
        "  tables: List of str\n",
        "  summarize_texts: Bool to summarize texts\n",
        "  \"\"\"\n",
        "  # Prompt\n",
        "  prompt_text = \"\"\"You are an assitant tasked with summarizing tales and text for retrieval. \\\n",
        "  These summaries will be embeddded and used to retrieve the raw text or table elements. \\\n",
        "  Give a concise summary of the table or text that if well optimized for retrieval. Table or text: {{element}} \"\"\"\n",
        "\n",
        "  prompt=PromptTemplate.from_template(prompt_text)\n",
        "  empty_response = RunnableLambda(\n",
        "    lambda x: AIMessage(content=\"Error processing document\")\n",
        " )\n",
        "\n",
        "\n",
        "  # Text summary chain\n",
        "  model  = GoogleGenerativeAI(\n",
        "       temperature=0 ,model=\"gemini-2.0-flash-exp\", google_api_key=api_key, max_output_tokens=1024\n",
        "       ).with_fallbacks([empty_response])\n",
        "  summarize_chain = {\"elements\":lambda x:x} | prompt | model | StrOutputParser()\n",
        "\n",
        "   #Initialize empty summaries\n",
        "  text_summaries =[]\n",
        "  tables_summaries =[]\n",
        "\n",
        "  #Apply to text if texts are provided and summarization is requested\n",
        "  if texts and summarize_texts:\n",
        "    text_summaries = summarize_chain.batch(texts, {\"max_concurrency\": 1})\n",
        "  elif texts:\n",
        "    text_summaries = texts\n",
        "\n",
        "  #Apply to tables if tables are provided and summarization is requested\n",
        "  if tables and summarize_texts:\n",
        "    tables_summaries = summarize_chain.batch(tables, {\"max_concurrency\": 1})\n",
        "  elif tables:\n",
        "    tables_summaries = tables\n",
        "\n",
        "  return text_summaries, tables_summaries\n",
        ""
      ],
      "metadata": {
        "id": "um_Ac-PVvG86"
      },
      "execution_count": 66,
      "outputs": []
    },
    {
      "cell_type": "code",
      "source": [
        "text_summaries, table_summaries = generate_text_summaries(\n",
        "    texts, tables, summarize_texts=True)"
      ],
      "metadata": {
        "id": "xN5CddoG2Y8v"
      },
      "execution_count": null,
      "outputs": []
    },
    {
      "cell_type": "code",
      "source": [
        "len(text_summaries)"
      ],
      "metadata": {
        "id": "tvwsIB3n9_Mt"
      },
      "execution_count": null,
      "outputs": []
    },
    {
      "cell_type": "code",
      "source": [
        "import base64\n",
        "import os\n",
        "\n",
        "from langchain_core.messages import HumanMessage\n",
        "\n",
        "def encode_image(image_path):\n",
        "    \"\"\"Getting the base64 encoded image\"\"\"\n",
        "    with open(image_path, \"rb\") as image_file:\n",
        "        return base64.b64encode(image_file.read()).decode('utf-8')\n",
        "\n",
        "def image_summarize(img_base64, prompt):\n",
        "    \"\"\"Make image summary\"\"\"\n",
        "    model = ChatGoogleGenerativeAI( model=\"gemini-2.0-flash-exp\", google_api_key=api_key,  max_output_tokens=1024)\n",
        "\n",
        "    msg = model(\n",
        "        [\n",
        "            HumanMessage(\n",
        "                content=[\n",
        "                    {\"type\": \"text\", \"text\": prompt},\n",
        "                    {\n",
        "                        \"type\": \"image_url\",\n",
        "                        \"image_url\": {\"url\": f\"data:image/jpeg;base64,{img_base64}\"},\n",
        "                    },\n",
        "                ]\n",
        "            )\n",
        "        ]\n",
        "    )\n",
        "    return msg.content\n",
        "\n",
        "def generate_image_summaries(path):\n",
        "  \"\"\"\n",
        "\n",
        "  Generate summaries and base64 encoded strings for images\n",
        "  path: Path to list of .jpg files extarcted by Unstructured\n",
        "  \"\"\"\n",
        "\n",
        "  # Store base64 encoded images\n",
        "  img_base64_list = []\n",
        "\n",
        "  #Store image summaries\n",
        "  image_summaries = []\n",
        "\n",
        "  # Prompt\n",
        "  prompt = \"\"\"You are an assitant tasked with summarizing images for retrieval. \\\n",
        "  These summaries will be emdedded and used to retrieve the raw images. \\\n",
        "  Give a concise  summary of the image that if well optimized for retrieval.\"\"\"\n",
        "\n",
        "  #Apply to images\n",
        "  for img_file in sorted(os.listdir(path)):\n",
        "    if img_file.endswith(\".jpg\"):\n",
        "      img_path = os.path.join(path, img_file)\n",
        "      img_base64 = encode_image(img_path)\n",
        "      img_base64_list.append(img_base64)\n",
        "      image_summaries.append(image_summarize(img_base64, prompt))\n",
        "\n",
        "  return img_base64_list, image_summaries"
      ],
      "metadata": {
        "id": "64pi6uWq-gH_"
      },
      "execution_count": 68,
      "outputs": []
    },
    {
      "cell_type": "code",
      "source": [
        "img_base64_list, image_summaries = generate_image_summaries(\"./cj/\")"
      ],
      "metadata": {
        "id": "nuJlRqNnJYRz"
      },
      "execution_count": 69,
      "outputs": []
    },
    {
      "cell_type": "code",
      "source": [
        "len(img_base64_list)"
      ],
      "metadata": {
        "id": "gp6HDpL_JtTJ"
      },
      "execution_count": null,
      "outputs": []
    },
    {
      "cell_type": "code",
      "source": [
        "image_summaries[4]"
      ],
      "metadata": {
        "id": "gTCuYKUNJvtC"
      },
      "execution_count": null,
      "outputs": []
    },
    {
      "cell_type": "code",
      "source": [
        "!pip install --quiet chromadb --use-deprecated=legacy-resolver"
      ],
      "metadata": {
        "id": "vCcwFtxIbT6d"
      },
      "execution_count": 62,
      "outputs": []
    },
    {
      "cell_type": "code",
      "source": [
        "import uuid\n",
        "import chromadb\n",
        "from langchain.retrievers.multi_vector import MultiVectorRetriever\n",
        "from langchain.storage import InMemoryStore\n",
        "from langchain_community.vectorstores import Chroma\n",
        "from langchain_core.documents import Document\n",
        "from langchain_google_genai import GoogleGenerativeAIEmbeddings\n",
        "\n",
        "\n",
        "def create_multi_vector_retriever(\n",
        "    vectorstore, text_summaries, texts, table_summaries, tables, image_summaries, images\n",
        "):\n",
        "    \"\"\"\n",
        "    Create retriever that indexes summaries,but returns raw images or texts\n",
        "    \"\"\"\n",
        "\n",
        "    #Initialize the storage layer\n",
        "    store = InMemoryStore()\n",
        "    id_key = \"doc_id\"\n",
        "\n",
        "    # Create the multi-vector retriever\n",
        "    retriever = MultiVectorRetriever(\n",
        "        vectorstore=vectorstore,\n",
        "        docstore=store,\n",
        "        id_key=id_key,\n",
        "    )\n",
        "\n",
        "    # Helper function to add documents to the vectorstore and docstore\n",
        "    def add_documents(retriever, doc_summaries, doc_contents):\n",
        "        doc_ids = [str(uuid.uuid4()) for _ in doc_contents]\n",
        "        summary_docs = [\n",
        "            Document(page_content=s, metadata={id_key: doc_ids[i]})\n",
        "            for i, s in enumerate(doc_summaries)\n",
        "        ]\n",
        "        retriever.vectorstore.add_documents(summary_docs)\n",
        "        retriever.docstore.mset(list(zip(doc_ids, doc_contents)))\n",
        "\n",
        "    # Add texts, tables, and images\n",
        "    # Check that text_summaries is not empty before adding\n",
        "    if text_summaries:\n",
        "        add_documents(retriever, text_summaries, texts)\n",
        "    # Check that table_summaries is not empty before adding\n",
        "    if table_summaries:\n",
        "        add_documents(retriever, table_summaries, tables)\n",
        "    # Check that image_summaries is not empty before adding\n",
        "    if image_summaries:\n",
        "        add_documents(retriever, image_summaries, images)\n",
        "\n",
        "    return retriever\n",
        "\n",
        "# The vectorstore to use to index the summaries\n",
        "vectorstore = Chroma(\n",
        "    collection_name=\"mm_rag_cj_blog\",\n",
        "    embedding_function=GoogleGenerativeAIEmbeddings(model=\"textembedding-gecko@latest\"),\n",
        ")\n",
        "\n",
        "# Create retriever\n",
        "retriever_multi_vector_img = create_multi_vector_retriever(\n",
        "    vectorstore,\n",
        "    text_summaries,\n",
        "    texts,\n",
        "    table_summaries,\n",
        "    tables,\n",
        "    image_summaries,\n",
        "    img_base64_list,\n",
        ")"
      ],
      "metadata": {
        "id": "sRRsfezSR382"
      },
      "execution_count": null,
      "outputs": []
    },
    {
      "cell_type": "markdown",
      "source": [
        "https://pypi.org/project/langchain-google-genai/\n",
        "\n",
        "There is error above , also other Vertex compatible gen ai clsses\n",
        "Video at 37:00"
      ],
      "metadata": {
        "id": "Hye4Yt5KaNVg"
      }
    },
    {
      "cell_type": "markdown",
      "source": [],
      "metadata": {
        "id": "Jo2O1JhbCyh4"
      }
    }
  ]
}