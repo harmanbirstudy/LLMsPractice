{
  "nbformat": 4,
  "nbformat_minor": 0,
  "metadata": {
    "colab": {
      "provenance": [],
      "gpuType": "T4",
      "authorship_tag": "ABX9TyNqgBkPLXmrHpEsX2OeWxrm",
      "include_colab_link": true
    },
    "kernelspec": {
      "name": "python3",
      "display_name": "Python 3"
    },
    "language_info": {
      "name": "python"
    },
    "accelerator": "GPU"
  },
  "cells": [
    {
      "cell_type": "markdown",
      "metadata": {
        "id": "view-in-github",
        "colab_type": "text"
      },
      "source": [
        "<a href=\"https://colab.research.google.com/github/harmanbirstudy/LLMsPractice/blob/main/gemini2_0_practice.ipynb\" target=\"_parent\"><img src=\"https://colab.research.google.com/assets/colab-badge.svg\" alt=\"Open In Colab\"/></a>"
      ]
    },
    {
      "cell_type": "markdown",
      "source": [
        "1) Generic run for gemini 2.0 , key from cola secrets"
      ],
      "metadata": {
        "id": "ivtiLusXUfql"
      }
    },
    {
      "cell_type": "code",
      "source": [
        "#pip install google-genai"
      ],
      "metadata": {
        "id": "Hdm8UWv-VEPA"
      },
      "execution_count": null,
      "outputs": []
    },
    {
      "cell_type": "code",
      "source": [
        "# from google import genai\n",
        "# from google.colab import userdata\n",
        "\n",
        "# client = genai.Client(api_key=userdata.get('GEMINI_API_KEY'))\n",
        "# response = client.models.generate_content(model='gemini-2.0-flash-exp', contents='How does AI work?')\n",
        "# print(response.text)"
      ],
      "metadata": {
        "id": "Ic0ufaKwT7Me"
      },
      "execution_count": null,
      "outputs": []
    },
    {
      "cell_type": "markdown",
      "source": [
        "2) Langchain with gemini"
      ],
      "metadata": {
        "id": "3VjqhD0_UjTh"
      }
    },
    {
      "cell_type": "code",
      "source": [
        "!pip install --quiet langchain"
      ],
      "metadata": {
        "id": "WhMTZCRtUvyM"
      },
      "execution_count": 15,
      "outputs": []
    },
    {
      "cell_type": "code",
      "source": [
        "!pip install --quiet langchain-google-genai"
      ],
      "metadata": {
        "id": "bwVM6RPqU1b3"
      },
      "execution_count": null,
      "outputs": []
    }
  ]
}