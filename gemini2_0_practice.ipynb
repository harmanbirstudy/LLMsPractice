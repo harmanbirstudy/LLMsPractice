{
  "nbformat": 4,
  "nbformat_minor": 0,
  "metadata": {
    "colab": {
      "provenance": [],
      "gpuType": "T4",
      "authorship_tag": "ABX9TyMyrbBwM248BU0JAxkpXVGU",
      "include_colab_link": true
    },
    "kernelspec": {
      "name": "python3",
      "display_name": "Python 3"
    },
    "language_info": {
      "name": "python"
    },
    "accelerator": "GPU"
  },
  "cells": [
    {
      "cell_type": "markdown",
      "metadata": {
        "id": "view-in-github",
        "colab_type": "text"
      },
      "source": [
        "<a href=\"https://colab.research.google.com/github/harmanbirstudy/LLMsPractice/blob/main/gemini2_0_practice.ipynb\" target=\"_parent\"><img src=\"https://colab.research.google.com/assets/colab-badge.svg\" alt=\"Open In Colab\"/></a>"
      ]
    },
    {
      "cell_type": "markdown",
      "source": [
        "https://www.youtube.com/watch?v=vxF8-ay9Bzk\n",
        "\n",
        "https://github.com/GoogleCloudPlatform/generative-ai -- good examples\n",
        "\n",
        "https://github.com/GoogleCloudPlatform/genai-product-catalog/tree/main\n",
        "\n",
        "1) Generic run for gemini 2.0 , key from cola secrets"
      ],
      "metadata": {
        "id": "ivtiLusXUfql"
      }
    },
    {
      "cell_type": "code",
      "source": [
        "pip install google-genai"
      ],
      "metadata": {
        "id": "Hdm8UWv-VEPA"
      },
      "execution_count": null,
      "outputs": []
    },
    {
      "cell_type": "code",
      "source": [
        "from google import genai\n",
        "from google.colab import userdata\n",
        "\n",
        "client = genai.Client(api_key=userdata.get('GEMINI_API_KEY'))\n",
        "response = client.models.generate_content(model='gemini-2.0-flash-exp', contents='How does AI work?')\n",
        "print(response.text)"
      ],
      "metadata": {
        "id": "Ic0ufaKwT7Me"
      },
      "execution_count": null,
      "outputs": []
    },
    {
      "cell_type": "markdown",
      "source": [
        "2) Langchain with gemini\n",
        "\n",
        "https://python.langchain.com/docs/integrations/llms/google_ai/\n",
        "\n",
        "https://python.langchain.com/docs/concepts/chat_models/"
      ],
      "metadata": {
        "id": "3VjqhD0_UjTh"
      }
    },
    {
      "cell_type": "code",
      "source": [
        "!pip install --quiet langchain"
      ],
      "metadata": {
        "id": "WhMTZCRtUvyM"
      },
      "execution_count": null,
      "outputs": []
    },
    {
      "cell_type": "code",
      "source": [
        "!pip install --quiet langchain-google-genai"
      ],
      "metadata": {
        "id": "bwVM6RPqU1b3"
      },
      "execution_count": null,
      "outputs": []
    },
    {
      "cell_type": "code",
      "source": [
        "from langchain_google_genai import GoogleGenerativeAI\n",
        "from google.colab import userdata\n",
        "api_key=userdata.get('GEMINI_API_KEY')"
      ],
      "metadata": {
        "id": "io0a7X7bVXMi"
      },
      "execution_count": 2,
      "outputs": []
    },
    {
      "cell_type": "code",
      "source": [
        "model = GoogleGenerativeAI(model=\"gemini-2.0-flash-exp\", google_api_key=api_key)"
      ],
      "metadata": {
        "id": "8ql4f8IBV8sL"
      },
      "execution_count": 3,
      "outputs": []
    },
    {
      "cell_type": "code",
      "source": [
        "question1 = \"What is BMW revenue for 2022 break it up per line of business and share the 2024 business prespective? \"\n",
        "\n",
        "# for chunk in model.stream(question1):\n",
        "#   print(chunk, end=\"\")\n",
        "\n",
        "print(model.invoke(question1))"
      ],
      "metadata": {
        "id": "lOxLusNMX_wh"
      },
      "execution_count": null,
      "outputs": []
    },
    {
      "cell_type": "markdown",
      "source": [
        "Using prompts"
      ],
      "metadata": {
        "id": "PidTlByigpF3"
      }
    },
    {
      "cell_type": "code",
      "source": [
        "from langchain_core.prompts import PromptTemplate\n",
        "template = \"What is {company} revenue for 2022 break it up per line of business and share the {year} business prespective? \"\n",
        "\n",
        "prompt = PromptTemplate.from_template(template)\n",
        "\n",
        "chain = prompt | model\n",
        "\n",
        "# for chunck in chain.stream({\"company\": \"BMW\", \"year\": \"2024\"}):\n",
        "#   print(chunck, end=\"\")\n",
        "\n",
        "print(chain.invoke({\"company\": \"BMW\", \"year\": \"2024\"}))\n"
      ],
      "metadata": {
        "id": "o14H3_R_eG4o"
      },
      "execution_count": null,
      "outputs": []
    },
    {
      "cell_type": "markdown",
      "source": [
        "More params like limit response and print config etc"
      ],
      "metadata": {
        "id": "HGCNjXdihqnz"
      }
    },
    {
      "cell_type": "code",
      "source": [
        "for chunk in model.invoke(question1, stream=True, stop=[\"growth\"], temperature=0.2):\n",
        "  print(chunk, end=\"\" , flush=True)"
      ],
      "metadata": {
        "id": "8NgnUxWMhyI0"
      },
      "execution_count": null,
      "outputs": []
    },
    {
      "cell_type": "code",
      "source": [
        "response = model.generate([question1])\n",
        "#response.generations[0][0].text\n",
        "response.generations[0][0].generation_info"
      ],
      "metadata": {
        "id": "o9hncly5ihDi"
      },
      "execution_count": null,
      "outputs": []
    },
    {
      "cell_type": "markdown",
      "source": [
        "3) Langchain gemini ChatModel\n",
        "\n",
        "https://python.langchain.com/docs/integrations/chat/google_generative_ai/"
      ],
      "metadata": {
        "id": "ZR72fYCAjXGZ"
      }
    },
    {
      "cell_type": "code",
      "source": [
        "from langchain_google_genai import ChatGoogleGenerativeAI\n",
        "from langchain_core.messages import HumanMessage, AIMessage"
      ],
      "metadata": {
        "id": "WBuLMu6Jjejp"
      },
      "execution_count": 5,
      "outputs": []
    },
    {
      "cell_type": "code",
      "source": [
        "chat_model = ChatGoogleGenerativeAI(model=\"gemini-2.0-flash-exp\", google_api_key=api_key)\n",
        "\n",
        "anwser = chat_model.invoke([HumanMessage(content=question1)])\n",
        "print(anwser.content)"
      ],
      "metadata": {
        "id": "4SH9GaB4kzIj"
      },
      "execution_count": null,
      "outputs": []
    },
    {
      "cell_type": "markdown",
      "source": [
        "4)Gemini Image models\n",
        "\n",
        "gemini-pro-vision -- depreciated so using gemini-2.0 unless found a better one"
      ],
      "metadata": {
        "id": "hmEjlK5g-FQD"
      }
    },
    {
      "cell_type": "code",
      "source": [
        "anwser = chat_model.invoke([HumanMessage(content=\"Hello. Who are you\")])\n",
        "print(anwser.content)\n"
      ],
      "metadata": {
        "id": "MkJBXGrJ-Est"
      },
      "execution_count": null,
      "outputs": []
    },
    {
      "cell_type": "code",
      "source": [
        "from langchain_google_genai._image_utils import ImageBytesLoader\n",
        "image_loader = ImageBytesLoader()\n",
        "image = image_loader.load_bytes(\"https://images.pexels.com/photos/8827237/pexels-photo-8827237.jpeg\")\n",
        "from IPython.display import Image , display\n",
        "display(Image(image))"
      ],
      "metadata": {
        "id": "YNjIxaW5-otW"
      },
      "execution_count": null,
      "outputs": []
    },
    {
      "cell_type": "code",
      "source": [
        "type(image)"
      ],
      "metadata": {
        "id": "eXhErCF3_QNu"
      },
      "execution_count": null,
      "outputs": []
    },
    {
      "cell_type": "code",
      "source": [
        "text_message = {\n",
        "    \"type\":\"text\",\n",
        "    \"text\": \"Describe the image\"\n",
        "}\n",
        "image_message = {\n",
        "    \"type\":\"image_url\",\n",
        "    \"image_url\": {\"url\":\"https://images.pexels.com/photos/8827237/pexels-photo-8827237.jpeg\"}\n",
        "}\n",
        "\n",
        "message = HumanMessage(content=[text_message, image_message])\n",
        "\n",
        "anwser = chat_model.invoke([message])\n",
        "print(anwser.content)"
      ],
      "metadata": {
        "id": "Je2ONRgl_Zp7"
      },
      "execution_count": null,
      "outputs": []
    },
    {
      "cell_type": "code",
      "source": [
        "image_url_nyse =(\n",
        "    \"https://www.reuters.com/resizer/v2/https%3A%2F%2Fcloudfront-us-east-2.images.arcpublishing.com%2Freuters%2FYSJL2MEQYJPPJFTB64XXCPG2FA.jpg?auth=b81bf08306817072ac6e4e3b9f0419a73895be15cf490bb7bfad62ec67bc1c5e&width=4996&quality=80\"\n",
        ")\n",
        "\n",
        "image_message = {\n",
        "    \"type\":\"image_url\",\n",
        "    \"image_url\": {\"url\":image_url_nyse}\n",
        "}\n",
        "\n",
        "prompt = \"Describe the scene , be detailed what is happening\"\n",
        "\n",
        "message = HumanMessage(content=[prompt, image_message])\n",
        "\n",
        "output = chat_model.invoke([message])\n",
        "print(output.content)\n",
        "display(Image(url=image_url_nyse))"
      ],
      "metadata": {
        "id": "GrjtClBgBP_B"
      },
      "execution_count": null,
      "outputs": []
    },
    {
      "cell_type": "markdown",
      "source": [
        "Using Prompts to hint what we expect it to think.City/Landmarks"
      ],
      "metadata": {
        "id": "iM0a7HosDmKM"
      }
    },
    {
      "cell_type": "code",
      "source": [
        "prompt1 = \"\"\"{\"city\":\"London\" ,\"Landmark\":\"Big ben\" , \"Postivie Historical event:The Great Fire of 1666 while devastating, it ultimately led to a major rebuilding effort that resulted in a new, more planned and improved London, essentially giving birth to a modern version of the city}\"\"\"\n",
        "\n",
        "prompt2 = \"\"\"{\"city\":\"Paris\" ,\"Landmark\":\"Eiffel Tower\" , \"Postivie Historical event:Founded in 1257 The soborne university becamme a a major center of learning in Europe and the core of the University of Paris }\"\"\"\n",
        "\n",
        "\n",
        "image_url1 = \"https://storage.googleapis.com/github-repo/img/gemini/intro/landmark1.jpg\"\n",
        "image_url2 = \"https://storage.googleapis.com/github-repo/img/gemini/intro/landmark2.jpg\"\n",
        "image_url3 = \"https://storage.googleapis.com/github-repo/img/gemini/intro/landmark3.jpg\"\n",
        "\n",
        "image_message1 = {\n",
        "    \"type\":\"image_url\",\n",
        "    \"image_url\": {\"url\":image_url1}\n",
        "}\n",
        "\n",
        "image_message2 = {\n",
        "    \"type\":\"image_url\",\n",
        "    \"image_url\": {\"url\":image_url2}\n",
        "}\n",
        "\n",
        "image_message3 = {\n",
        "    \"type\":\"image_url\",\n",
        "    \"image_url\": {\"url\":image_url3}\n",
        "}\n",
        "\n",
        "message1 = HumanMessage(content=[image_message1, prompt1,image_message2, prompt2,image_message3])\n",
        "\n",
        "output = chat_model.invoke([message1])\n",
        "\n",
        "print(prompt1)\n",
        "display(Image(url=image_url1))\n",
        "print(prompt2)\n",
        "display(Image(url=image_url2))\n",
        "\n",
        "print(output.content)\n",
        "display(Image(url=image_url3))\n",
        ""
      ],
      "metadata": {
        "id": "4VBP5IC0K6hf"
      },
      "execution_count": null,
      "outputs": []
    },
    {
      "cell_type": "markdown",
      "source": [
        "Same above example but with stocks"
      ],
      "metadata": {
        "id": "1RYLDBINVFx-"
      }
    },
    {
      "cell_type": "code",
      "source": [
        "prompt1 = \"\"\"{\"Ticker\":\"GOOG\" ,\"Industry\":\"Technology\" , \"Description:Alphabet stock is up by 8.07% in past 6M. It is trading at $133.84 with an increase of 0.12% after hours.The stock prise had risen compared to Nov2023}\"\"\"\n",
        "\n",
        "prompt2 = \"\"\"{\"Ticker\":\"AMZN\" ,\"Industry\":\"E-commerce\" , \"Description:Amazon stock is up by 2.63% in past 1M. It is trading at $149.97 with an no change of 0.00% after hours.The stock prise had risen compared to Nov 27}\"\"\"\n",
        "\n",
        "\n",
        "image_url1 = \"https://storage.googleapis.com/oss-llm-bucket-public/stock-1.png\"\n",
        "image_url2 = \"https://storage.googleapis.com/oss-llm-bucket-public/stock-2.png\"\n",
        "image_url3 = \"https://storage.googleapis.com/oss-llm-bucket-public/stock-3.png\"\n",
        "\n",
        "image_message1 = {\n",
        "    \"type\":\"image_url\",\n",
        "    \"image_url\": {\"url\":image_url1}\n",
        "}\n",
        "\n",
        "image_message2 = {\n",
        "    \"type\":\"image_url\",\n",
        "    \"image_url\": {\"url\":image_url2}\n",
        "}\n",
        "\n",
        "image_message3 = {\n",
        "    \"type\":\"image_url\",\n",
        "    \"image_url\": {\"url\":image_url3}\n",
        "}\n",
        "\n",
        "message1 = HumanMessage(content=[image_message1, prompt1,image_message2, prompt2,image_message3])\n",
        "\n",
        "output = chat_model.invoke([message1])\n",
        "\n",
        "print(prompt1)\n",
        "display(Image(url=image_url1))\n",
        "print(prompt2)\n",
        "display(Image(url=image_url2))\n",
        "\n",
        "print(output.content)\n",
        "display(Image(url=image_url3))"
      ],
      "metadata": {
        "id": "k0NGzTpsPFmF"
      },
      "execution_count": null,
      "outputs": []
    }
  ]
}