{
  "nbformat": 4,
  "nbformat_minor": 0,
  "metadata": {
    "colab": {
      "provenance": [],
      "gpuType": "T4",
      "authorship_tag": "ABX9TyMa2r6aRQt5K9iy59RGni0h",
      "include_colab_link": true
    },
    "kernelspec": {
      "name": "python3",
      "display_name": "Python 3"
    },
    "language_info": {
      "name": "python"
    },
    "accelerator": "GPU"
  },
  "cells": [
    {
      "cell_type": "markdown",
      "metadata": {
        "id": "view-in-github",
        "colab_type": "text"
      },
      "source": [
        "<a href=\"https://colab.research.google.com/github/harmanbirstudy/LLMsPractice/blob/main/gemini2_0_practice.ipynb\" target=\"_parent\"><img src=\"https://colab.research.google.com/assets/colab-badge.svg\" alt=\"Open In Colab\"/></a>"
      ]
    },
    {
      "cell_type": "markdown",
      "source": [
        "https://www.youtube.com/watch?v=vxF8-ay9Bzk\n",
        "\n",
        "1) Generic run for gemini 2.0 , key from cola secrets"
      ],
      "metadata": {
        "id": "ivtiLusXUfql"
      }
    },
    {
      "cell_type": "code",
      "source": [
        "pip install google-genai"
      ],
      "metadata": {
        "id": "Hdm8UWv-VEPA"
      },
      "execution_count": null,
      "outputs": []
    },
    {
      "cell_type": "code",
      "source": [
        "from google import genai\n",
        "from google.colab import userdata\n",
        "\n",
        "client = genai.Client(api_key=userdata.get('GEMINI_API_KEY'))\n",
        "response = client.models.generate_content(model='gemini-2.0-flash-exp', contents='How does AI work?')\n",
        "print(response.text)"
      ],
      "metadata": {
        "id": "Ic0ufaKwT7Me"
      },
      "execution_count": null,
      "outputs": []
    },
    {
      "cell_type": "markdown",
      "source": [
        "2) Langchain with gemini\n",
        "\n",
        "https://python.langchain.com/docs/integrations/llms/google_ai/\n",
        "\n",
        "https://python.langchain.com/docs/concepts/chat_models/"
      ],
      "metadata": {
        "id": "3VjqhD0_UjTh"
      }
    },
    {
      "cell_type": "code",
      "source": [
        "!pip install --quiet langchain"
      ],
      "metadata": {
        "id": "WhMTZCRtUvyM"
      },
      "execution_count": 15,
      "outputs": []
    },
    {
      "cell_type": "code",
      "source": [
        "!pip install --quiet langchain-google-genai"
      ],
      "metadata": {
        "id": "bwVM6RPqU1b3"
      },
      "execution_count": null,
      "outputs": []
    },
    {
      "cell_type": "code",
      "source": [
        "from langchain_google_genai import GoogleGenerativeAI\n",
        "from google.colab import userdata\n",
        "api_key=userdata.get('GEMINI_API_KEY')"
      ],
      "metadata": {
        "id": "io0a7X7bVXMi"
      },
      "execution_count": 32,
      "outputs": []
    },
    {
      "cell_type": "code",
      "source": [
        "model = GoogleGenerativeAI(model=\"gemini-2.0-flash-exp\", google_api_key=api_key)"
      ],
      "metadata": {
        "id": "8ql4f8IBV8sL"
      },
      "execution_count": 33,
      "outputs": []
    },
    {
      "cell_type": "code",
      "source": [
        "question1 = \"What is BMW revenue for 2022 break it up per line of business and share the 2024 business prespective? \"\n",
        "\n",
        "# for chunk in model.stream(question1):\n",
        "#   print(chunk, end=\"\")\n",
        "\n",
        "print(model.invoke(question1))"
      ],
      "metadata": {
        "id": "lOxLusNMX_wh"
      },
      "execution_count": null,
      "outputs": []
    },
    {
      "cell_type": "markdown",
      "source": [
        "Using prompts"
      ],
      "metadata": {
        "id": "PidTlByigpF3"
      }
    },
    {
      "cell_type": "code",
      "source": [
        "from langchain_core.prompts import PromptTemplate\n",
        "template = \"What is {company} revenue for 2022 break it up per line of business and share the {year} business prespective? \"\n",
        "\n",
        "prompt = PromptTemplate.from_template(template)\n",
        "\n",
        "chain = prompt | model\n",
        "\n",
        "# for chunck in chain.stream({\"company\": \"BMW\", \"year\": \"2024\"}):\n",
        "#   print(chunck, end=\"\")\n",
        "\n",
        "print(chain.invoke({\"company\": \"BMW\", \"year\": \"2024\"}))\n"
      ],
      "metadata": {
        "id": "o14H3_R_eG4o"
      },
      "execution_count": null,
      "outputs": []
    },
    {
      "cell_type": "markdown",
      "source": [
        "More params like limit response and print config etc"
      ],
      "metadata": {
        "id": "HGCNjXdihqnz"
      }
    },
    {
      "cell_type": "code",
      "source": [
        "for chunk in model.invoke(question1, stream=True, stop=[\"growth\"], temperature=0.2):\n",
        "  print(chunk, end=\"\" , flush=True)"
      ],
      "metadata": {
        "id": "8NgnUxWMhyI0"
      },
      "execution_count": null,
      "outputs": []
    },
    {
      "cell_type": "code",
      "source": [
        "response = model.generate([question1])\n",
        "#response.generations[0][0].text\n",
        "response.generations[0][0].generation_info"
      ],
      "metadata": {
        "id": "o9hncly5ihDi"
      },
      "execution_count": null,
      "outputs": []
    },
    {
      "cell_type": "markdown",
      "source": [
        "3) Langchain gemini ChatModel\n",
        "\n",
        "https://python.langchain.com/docs/integrations/chat/google_generative_ai/"
      ],
      "metadata": {
        "id": "ZR72fYCAjXGZ"
      }
    },
    {
      "cell_type": "code",
      "source": [
        "from langchain_google_genai import ChatGoogleGenerativeAI\n",
        "from langchain_core.messages import HumanMessage, AIMessage"
      ],
      "metadata": {
        "id": "WBuLMu6Jjejp"
      },
      "execution_count": 49,
      "outputs": []
    },
    {
      "cell_type": "code",
      "source": [
        "chat_model = ChatGoogleGenerativeAI(model=\"gemini-2.0-flash-exp\", google_api_key=api_key)\n",
        "\n",
        "anwser = chat_model.invoke([HumanMessage(content=question1)])\n",
        "print(anwser.content)"
      ],
      "metadata": {
        "id": "4SH9GaB4kzIj"
      },
      "execution_count": null,
      "outputs": []
    }
  ]
}