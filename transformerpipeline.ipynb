{
  "nbformat": 4,
  "nbformat_minor": 0,
  "metadata": {
    "colab": {
      "provenance": [],
      "gpuType": "T4",
      "authorship_tag": "ABX9TyOSLJBLSBo1178E+8LMHD64",
      "include_colab_link": true
    },
    "kernelspec": {
      "name": "python3",
      "display_name": "Python 3"
    },
    "language_info": {
      "name": "python"
    },
    "accelerator": "GPU"
  },
  "cells": [
    {
      "cell_type": "markdown",
      "metadata": {
        "id": "view-in-github",
        "colab_type": "text"
      },
      "source": [
        "<a href=\"https://colab.research.google.com/github/harmanbirstudy/LLMsPractice/blob/main/transformerpipeline.ipynb\" target=\"_parent\"><img src=\"https://colab.research.google.com/assets/colab-badge.svg\" alt=\"Open In Colab\"/></a>"
      ]
    },
    {
      "cell_type": "code",
      "execution_count": 2,
      "metadata": {
        "id": "vr7Xqjyc4mhu"
      },
      "outputs": [],
      "source": [
        "from transformers import pipeline"
      ]
    },
    {
      "cell_type": "code",
      "source": [
        "#Sentiment Analysis\n",
        "# classifier = pipeline(\"sentiment-analysis\")\n",
        "# res = classifier(\"I hate you\")[0]\n",
        "# print(res)\n"
      ],
      "metadata": {
        "id": "OFuGCFW05caP"
      },
      "execution_count": null,
      "outputs": []
    },
    {
      "cell_type": "code",
      "source": [
        "#Zero Shot Classification\n",
        "classifier = pipeline(\"zero-shot-classification\")\n",
        "res = classifier(\n",
        "    \"This is a course about Python list comprehension\",\n",
        "    candidate_labels=[\"education\",\"politics\",\"business\"]\n",
        ")\n",
        "print(res)"
      ],
      "metadata": {
        "id": "BFKe44dL5fql"
      },
      "execution_count": null,
      "outputs": []
    }
  ]
}