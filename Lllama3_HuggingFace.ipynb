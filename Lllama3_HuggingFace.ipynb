{
  "nbformat": 4,
  "nbformat_minor": 0,
  "metadata": {
    "colab": {
      "provenance": [],
      "gpuType": "T4",
      "mount_file_id": "https://github.com/harmanbirstudy/LLMsPractice/blob/main/Lllama3_HuggingFace.ipynb",
      "authorship_tag": "ABX9TyMRc0UqJRXlzKTc7vBBKjgH",
      "include_colab_link": true
    },
    "kernelspec": {
      "name": "python3",
      "display_name": "Python 3"
    },
    "language_info": {
      "name": "python"
    },
    "accelerator": "GPU"
  },
  "cells": [
    {
      "cell_type": "markdown",
      "metadata": {
        "id": "view-in-github",
        "colab_type": "text"
      },
      "source": [
        "<a href=\"https://colab.research.google.com/github/harmanbirstudy/LLMsPractice/blob/main/Lllama3_HuggingFace.ipynb\" target=\"_parent\"><img src=\"https://colab.research.google.com/assets/colab-badge.svg\" alt=\"Open In Colab\"/></a>"
      ]
    },
    {
      "cell_type": "code",
      "source": [],
      "metadata": {
        "id": "XFzCbUIMdCXQ"
      },
      "execution_count": null,
      "outputs": []
    },
    {
      "cell_type": "markdown",
      "source": [
        "*Installing dependencies* The below files are no longer needed"
      ],
      "metadata": {
        "id": "jnPi3nPfdA7v"
      }
    },
    {
      "cell_type": "markdown",
      "source": [
        "--requirements.txt\n",
        "--accelerate==1.2.1\n",
        "-- bitsandbytes==0.45.0\n",
        "-- transformers==4.47.1"
      ],
      "metadata": {
        "id": "zlNtk1uf2rl7"
      }
    },
    {
      "cell_type": "markdown",
      "source": [
        "--config.json\n",
        "--{\"HF_TOKEN\":\"SECRET_TOKEN\"}"
      ],
      "metadata": {
        "id": "ZErjCwo63Zoi"
      }
    },
    {
      "cell_type": "code",
      "execution_count": null,
      "metadata": {
        "id": "CfzD8ZhVHZ2P"
      },
      "outputs": [],
      "source": [
        "#!pip install -r requirements.txt\n",
        "!pip install accelerate==1.2.1\n",
        "!pip install bitsandbytes==0.45.0\n",
        "!pip install transformers==4.47.1"
      ]
    },
    {
      "cell_type": "code",
      "source": [],
      "metadata": {
        "id": "RCa50De519e4"
      },
      "execution_count": null,
      "outputs": []
    },
    {
      "cell_type": "code",
      "source": [
        "import json\n",
        "import torch\n",
        "from transformers import (AutoTokenizer,\n",
        "                          AutoModelForCausalLM,\n",
        "                          BitsAndBytesConfig,\n",
        "                          pipeline)"
      ],
      "metadata": {
        "id": "zUAbmmoFc3SO"
      },
      "execution_count": 6,
      "outputs": []
    },
    {
      "cell_type": "markdown",
      "source": [
        "*HF Account Configuration* HF_TOKEN now comes from colab secret , file no longer needed"
      ],
      "metadata": {
        "id": "ipnN5KCKZbrB"
      }
    },
    {
      "cell_type": "code",
      "source": [
        "#config_data = json.load(open(\"config.json\"))\n",
        "#HF_TOKEN = config_data[\"HF_TOKEN\"]\n",
        "from google.colab import userdata\n",
        "HF_TOKEN= userdata.get('HF_TOKEN')\n"
      ],
      "metadata": {
        "id": "0NLbvjOZZh9R"
      },
      "execution_count": 11,
      "outputs": []
    },
    {
      "cell_type": "code",
      "source": [
        "model_name = \"meta-llama/Llama-3.2-1B\""
      ],
      "metadata": {
        "id": "QZgWaZOEdyLk"
      },
      "execution_count": 12,
      "outputs": []
    },
    {
      "cell_type": "markdown",
      "source": [
        "Quantisation Configuration"
      ],
      "metadata": {
        "id": "82hQ_Mi8edU0"
      }
    },
    {
      "cell_type": "code",
      "source": [
        "\n",
        "bnb_config = BitsAndBytesConfig(\n",
        "    load_in_4bit=True,\n",
        "    bnb_4bit_quant_type=\"nf4\",\n",
        "    bnb_4bit_use_double_quant=True,\n",
        "    bnb_4bit_compute_dtype=torch.bfloat16\n",
        ")"
      ],
      "metadata": {
        "id": "h6tG9T2-echk"
      },
      "execution_count": 13,
      "outputs": []
    },
    {
      "cell_type": "code",
      "source": [
        "# prompt: Loading the Tokenizer\n",
        "\n",
        "tokenizer = AutoTokenizer.from_pretrained(model_name, token=HF_TOKEN)\n",
        "tokenizer.pad_token =  tokenizer.eos_token"
      ],
      "metadata": {
        "id": "L9SJ_fowf2Nq"
      },
      "execution_count": null,
      "outputs": []
    },
    {
      "cell_type": "markdown",
      "source": [],
      "metadata": {
        "id": "NpjQu9N5gYPJ"
      }
    },
    {
      "cell_type": "code",
      "source": [
        "model = AutoModelForCausalLM.from_pretrained(model_name,\n",
        "                                             token=HF_TOKEN,\n",
        "                                             trust_remote_code=True,\n",
        "                                             quantization_config=bnb_config,\n",
        "                                             device_map=\"auto\")"
      ],
      "metadata": {
        "id": "SB6OG5ayhAH2"
      },
      "execution_count": null,
      "outputs": []
    },
    {
      "cell_type": "code",
      "source": [
        "\n",
        "# Create the pipeline for text generation\n",
        "# extra info -- https://huggingface.co/docs/transformers/en/main_classes/pipelines\n",
        "text_generator = pipeline(task=\"text-generation\", model=model, tokenizer=tokenizer, max_new_tokens=128 )\n",
        "\n"
      ],
      "metadata": {
        "id": "czlZQtyeiC9-"
      },
      "execution_count": null,
      "outputs": []
    },
    {
      "cell_type": "code",
      "source": [
        "def generate_text(prompt):\n",
        "  \"\"\"Generates text based on the given prompt.\"\"\"\n",
        "  sequences = text_generator(prompt)\n",
        "  return sequences[0]['generated_text']"
      ],
      "metadata": {
        "id": "PxdnxX_Liq-J"
      },
      "execution_count": 17,
      "outputs": []
    },
    {
      "cell_type": "code",
      "source": [
        "prompt = \"What is Machine learning?\"\n",
        "generated_text = generate_text(prompt)\n",
        "print(generated_text[len(prompt):])\n"
      ],
      "metadata": {
        "id": "fr_aUD12jEM2"
      },
      "execution_count": null,
      "outputs": []
    },
    {
      "cell_type": "markdown",
      "source": [],
      "metadata": {
        "id": "uvPoI0XRjD87"
      }
    }
  ]
}